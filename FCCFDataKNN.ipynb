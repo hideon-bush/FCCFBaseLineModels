{
 "cells": [
  {
   "cell_type": "markdown",
   "source": [
    "Step 1: Import Libraries and Load Data\r\n",
    "\r\n",
    "There are two beijing datasets. beijing.Rdata and beijing_clus.Rdata. beijing_clus.Rdata clusters the 315 regions into 26 regions and takes significantly less time to load. \r\n",
    "\r\n",
    "The path might need to be changed as the directory in the dropbox might not match what I used locally. "
   ],
   "metadata": {}
  },
  {
   "cell_type": "code",
   "execution_count": 1,
   "source": [
    "import rpy2.robjects as robjects\r\n",
    "from rpy2.robjects import pandas2ri\r\n",
    "import pandas as pd\r\n",
    "import numpy as np\r\n",
    "import math\r\n",
    "\r\n",
    "pandas2ri.activate()\r\n",
    "robjects.r['load'](\"./CrowdFlow/data/beijing_clus.RData\")"
   ],
   "outputs": [
    {
     "output_type": "execute_result",
     "data": {
      "text/plain": [
       "<rpy2.robjects.vectors.StrVector object at 0x000001D462E5DD00> [RTYPES.STRSXP]\n",
       "R classes: ('character',)\n",
       "['alldata']"
      ],
      "text/html": [
       "\n",
       "        <span>StrVector with 1 elements.</span>\n",
       "        <table>\n",
       "        <tbody>\n",
       "          <tr>\n",
       "          \n",
       "            <td>\n",
       "            'alldata'\n",
       "            </td>\n",
       "          \n",
       "          </tr>\n",
       "        </tbody>\n",
       "        </table>\n",
       "        "
      ]
     },
     "metadata": {},
     "execution_count": 1
    }
   ],
   "metadata": {
    "tags": []
   }
  },
  {
   "cell_type": "markdown",
   "source": [
    "Step 2: Process data\r\n",
    "\r\n",
    "The original data is consisted of many tables. I seperated them into each individual dataframe so I could use them in python. \r\n",
    "\r\n",
    "Data_flow consists of information of the time index, region, inflow, outflow of the data. I added one extra column called trafiic_count which is the sum of inflow and outflow. \r\n",
    "\r\n",
    "Data_timemap consists of mappings of the 'time' column of the data_flow dataframe into actual time in the day, day in the week, hour in the day, hour in the week and the week number. \r\n",
    "\r\n",
    "Data_weather consists of weather information including temperature, pressure, humidity, windspeed, winddirection and weather (a 0~16 catagorical data for weather like sunny, rainy, snowy) for each time index. I was focusing on just the 'Weather' column of the data_weather dataframe. \r\n",
    "\r\n",
    "Data_flow and data_weather are merged together for easier processing. \r\n",
    "\r\n",
    "I also defined good weather as weather type 0 ~ 2 and bad weather is everything else. \r\n",
    "\r\n",
    "I then seperated the data_flow dataset into training set and testing test. The data already came with a pre-determined testing set range from time index 5087 and above which is what I used. Thus the training set consists of data up to time index 5086 and tesing set consists of data from time index 5087 to 5857. "
   ],
   "metadata": {}
  },
  {
   "cell_type": "code",
   "execution_count": 2,
   "source": [
    "data = robjects.r['alldata']\r\n",
    "data_flow = robjects.r['alldata'][0]\r\n",
    "traffic_count = data_flow['outflow'] + data_flow['inflow']\r\n",
    "data_flow['traffic_count'] = traffic_count\r\n",
    "data_timemap = robjects.r['alldata'][1]\r\n",
    "data_weather = robjects.r['alldata'][2]\r\n",
    "data_flow = data_flow.merge(data_weather, how='left', on='time')\r\n",
    "testtime = robjects.r['alldata'][-1]\r\n",
    "good_weather = data_weather.loc[data_weather['Weather'] <= 2]['time'].values.tolist()\r\n",
    "bad_weather = data_weather.loc[data_weather['Weather'] > 2]['time'].values.tolist()\r\n",
    "weather_info = [-1 for _ in range (len(data_flow))]\r\n",
    "data_flow['Weather_T'] = weather_info\r\n",
    "data_flow.loc[data_flow['time'].isin(good_weather), 'Weather_T'] = 0\r\n",
    "data_flow.loc[data_flow['time'].isin(bad_weather), 'Weather_T'] = 1\r\n",
    "test_data = data_flow.loc[data_flow['time'] >= 5087].reset_index()\r\n",
    "train_data = data_flow.loc[data_flow['time'] < 5087].reset_index()"
   ],
   "outputs": [],
   "metadata": {}
  },
  {
   "cell_type": "markdown",
   "source": [
    "This is a function which get all the time in data_timemap with the same dayinweek, hourinday, hourinweek given a certain time index. "
   ],
   "metadata": {}
  },
  {
   "cell_type": "code",
   "execution_count": 3,
   "source": [
    "def newGetTimeFromTime(time, data_timemap):\r\n",
    "    dayinweek = data_timemap.loc[data_timemap['time'] == time]['dayinweek'].values[0]\r\n",
    "    hourinday = data_timemap.loc[data_timemap['time'] == time]['hourinday'].values[0]\r\n",
    "    hourinweek = data_timemap.loc[data_timemap['time'] == time]['hourinweek'].values[0]\r\n",
    "    time_array = []\r\n",
    "    return data_timemap.loc[(data_timemap['dayinweek'] == dayinweek) & (data_timemap['hourinday'] == hourinday)]\r\n",
    "    # return data_timemap.loc[(data_timemap['dayinweek'] == dayinweek) & (data_timemap['hourinday'] == hourinday) & (data_timemap['hourinweek'] == hourinweek)]"
   ],
   "outputs": [],
   "metadata": {}
  },
  {
   "cell_type": "markdown",
   "source": [
    "Step 3: Running the prediction. \r\n",
    "\r\n",
    "I traversed the entire testing set and for each item, I get a dataframe with all the data with the same region, same weather and same time (dayinweek, hourinday and hourinweek). Then I take the average of inflow, outflow and traffic_count and append it to a list. Repeat this for all the data in test data and I get the predicted value of inflow, outflow and traffic_count for all testing data. "
   ],
   "metadata": {}
  },
  {
   "cell_type": "code",
   "execution_count": 4,
   "source": [
    "predicted_outflow = []\r\n",
    "predicted_inflow = []\r\n",
    "predicted_trafficcount = []\r\n",
    "\r\n",
    "for i in range (len(test_data.index)):\r\n",
    "    time = test_data.iloc[[i]]['time'].values[0]\r\n",
    "    region = test_data.iloc[[i]]['region'].values[0]\r\n",
    "    weather = test_data.iloc[[i]]['Weather_T'].values[0]\r\n",
    "    dataofsameregion = train_data.loc[train_data['region'] == region]\r\n",
    "    sameweathersameregion = dataofsameregion.loc[dataofsameregion['Weather_T'] == weather]\r\n",
    "    time_array = newGetTimeFromTime(time, data_timemap)\r\n",
    "\r\n",
    "    \r\n",
    "    df_new = sameweathersameregion[sameweathersameregion['time'].isin(time_array['time'].values.tolist())]\r\n",
    "\r\n",
    "    predicted_outflow.append(round(df_new['outflow'].mean(), 3))\r\n",
    "    predicted_inflow.append(round(df_new['inflow'].mean(), 3))\r\n",
    "    predicted_trafficcount.append(round(df_new['traffic_count'].mean(), 3))\r\n",
    "\r\n",
    "# print (\"end of loop\")\r\n",
    "# print (predicted_inflow)\r\n",
    "# print (predicted_outflow)\r\n",
    "test_data['Pred_Outflow'] = predicted_outflow\r\n",
    "test_data['Pred_Inflow'] = predicted_inflow\r\n",
    "test_data['Pred_TrafficCount'] = predicted_trafficcount"
   ],
   "outputs": [],
   "metadata": {}
  },
  {
   "cell_type": "markdown",
   "source": [
    "Step 4. Generate squared error for inflow, outflow and traffic_count. "
   ],
   "metadata": {}
  },
  {
   "cell_type": "code",
   "execution_count": 5,
   "source": [
    "test_data['MSE_Out'] = [number ** 2 for number in (test_data['outflow'].values - test_data['Pred_Outflow'].values)]\r\n",
    "test_data['MSE_In'] = [number ** 2 for number in (test_data['inflow'].values - test_data['Pred_Inflow'].values)]\r\n",
    "test_data['MSE_Traffic_Count'] = [number ** 2 for number in (test_data['traffic_count'].values - test_data['Pred_TrafficCount'].values)]\r\n"
   ],
   "outputs": [],
   "metadata": {}
  },
  {
   "cell_type": "markdown",
   "source": [
    "Step 5. Print RMSE for inflow, outflow and traffic_count for testing set. \r\n",
    "\r\n",
    "First I printed RMSE for all 17 weather types. Then I printed RMSE for good weather and bad weather. Lastly I printed the total RMSE, without the weather impact. "
   ],
   "metadata": {}
  },
  {
   "cell_type": "code",
   "execution_count": 6,
   "source": [
    "print ('-------- Outflow MSE for all weather type --------')\r\n",
    "\r\n",
    "for i in range (0, 17):\r\n",
    "\r\n",
    "    print ('Weather = ', i, ' ', math.sqrt(test_data.loc[test_data['Weather'] == i]['MSE_Out'].mean()))\r\n",
    "\r\n",
    "print ('-------- Inflow MSE for all weather type --------')\r\n",
    "\r\n",
    "for i in range (0, 17):\r\n",
    "    \r\n",
    "    print ('Weather = ', i, ' ', math.sqrt(test_data.loc[test_data['Weather'] == i]['MSE_In'].mean()))\r\n",
    "\r\n",
    "print ('-------- Traffic_Count MSE for all weather type --------')\r\n",
    "\r\n",
    "for i in range (0, 17):\r\n",
    "    \r\n",
    "    print ('Weather = ', i, ' ', math.sqrt(test_data.loc[test_data['Weather'] == i]['MSE_Traffic_Count'].mean()))\r\n",
    "\r\n",
    "\r\n",
    "print ('-------- Traffic_Count MSE for good and bad weather type --------')\r\n",
    "\r\n",
    "print ('good weather inflow: ', math.sqrt(test_data.loc[test_data['Weather_T'] == 0]['MSE_In'].mean()))\r\n",
    "print ('bad weather inflow: ', math.sqrt(test_data.loc[test_data['Weather_T'] == 1]['MSE_In'].mean()))\r\n",
    "print ('good weather outflow: ', math.sqrt(test_data.loc[test_data['Weather_T'] == 0]['MSE_Out'].mean()))\r\n",
    "print ('bad weather outflow: ', math.sqrt(test_data.loc[test_data['Weather_T'] == 1]['MSE_Out'].mean()))\r\n",
    "print ('good weather TC: ', math.sqrt(test_data.loc[test_data['Weather_T'] == 0]['MSE_Traffic_Count'].mean()))\r\n",
    "print ('bad weather TC: ', math.sqrt(test_data.loc[test_data['Weather_T'] == 1]['MSE_Traffic_Count'].mean()))\r\n",
    "print ('MSE_TC: ', math.sqrt(test_data['MSE_Traffic_Count'].mean()))\r\n",
    "print ('MSE_Inflow: ', math.sqrt(test_data['MSE_In'].mean()))\r\n",
    "print ('MSE_Outflow: ', math.sqrt(test_data['MSE_Out'].mean()))"
   ],
   "outputs": [
    {
     "output_type": "stream",
     "name": "stdout",
     "text": [
      "-------- Outflow MSE for all weather type --------\n",
      "Weather =  0   16.172582941352616\n",
      "Weather =  1   34.825853627154636\n",
      "Weather =  2   18.907344053651375\n",
      "Weather =  3   nan\n",
      "Weather =  4   25.53722450776513\n",
      "Weather =  5   nan\n",
      "Weather =  6   nan\n",
      "Weather =  7   nan\n",
      "Weather =  8   31.626134032924277\n",
      "Weather =  9   nan\n",
      "Weather =  10   nan\n",
      "Weather =  11   nan\n",
      "Weather =  12   nan\n",
      "Weather =  13   nan\n",
      "Weather =  14   26.568353093314506\n",
      "Weather =  15   nan\n",
      "Weather =  16   nan\n",
      "-------- Inflow MSE for all weather type --------\n",
      "Weather =  0   36.44953159515879\n",
      "Weather =  1   40.10586677378297\n",
      "Weather =  2   18.06083762444669\n",
      "Weather =  3   nan\n",
      "Weather =  4   20.943599977200673\n",
      "Weather =  5   nan\n",
      "Weather =  6   nan\n",
      "Weather =  7   nan\n",
      "Weather =  8   22.06176143597389\n",
      "Weather =  9   nan\n",
      "Weather =  10   nan\n",
      "Weather =  11   nan\n",
      "Weather =  12   nan\n",
      "Weather =  13   nan\n",
      "Weather =  14   18.589073634317256\n",
      "Weather =  15   nan\n",
      "Weather =  16   nan\n",
      "-------- Traffic_Count MSE for all weather type --------\n",
      "Weather =  0   40.285924710894136\n",
      "Weather =  1   53.86392483890484\n",
      "Weather =  2   31.844083427626206\n",
      "Weather =  3   nan\n",
      "Weather =  4   37.54273658119504\n",
      "Weather =  5   nan\n",
      "Weather =  6   nan\n",
      "Weather =  7   nan\n",
      "Weather =  8   40.31293087585948\n",
      "Weather =  9   nan\n",
      "Weather =  10   nan\n",
      "Weather =  11   nan\n",
      "Weather =  12   nan\n",
      "Weather =  13   nan\n",
      "Weather =  14   36.67059420187544\n",
      "Weather =  15   nan\n",
      "Weather =  16   nan\n",
      "-------- Traffic_Count MSE for good and bad weather type --------\n",
      "good weather inflow:  34.64032695911149\n",
      "bad weather inflow:  21.725197053291915\n",
      "good weather outflow:  27.83574198335921\n",
      "bad weather outflow:  30.943024984742912\n",
      "good weather TC:  45.9620098509588\n",
      "bad weather TC:  39.87523298376088\n",
      "MSE_TC:  43.017162236837464\n",
      "MSE_Inflow:  28.89397662098841\n",
      "MSE_Outflow:  29.43513606753373\n"
     ]
    }
   ],
   "metadata": {}
  }
 ],
 "metadata": {
  "interpreter": {
   "hash": "43969f4b1af0ec4f8313ee7c6dcf6c3369f1d994586751673d2ffcec1af6e26d"
  },
  "kernelspec": {
   "name": "python3",
   "display_name": "Python 3.9.5 64-bit"
  },
  "language_info": {
   "codemirror_mode": {
    "name": "ipython",
    "version": 3
   },
   "file_extension": ".py",
   "mimetype": "text/x-python",
   "name": "python",
   "nbconvert_exporter": "python",
   "pygments_lexer": "ipython3",
   "version": "3.9.5"
  },
  "metadata": {
   "interpreter": {
    "hash": "43969f4b1af0ec4f8313ee7c6dcf6c3369f1d994586751673d2ffcec1af6e26d"
   }
  },
  "orig_nbformat": 2
 },
 "nbformat": 4,
 "nbformat_minor": 2
}