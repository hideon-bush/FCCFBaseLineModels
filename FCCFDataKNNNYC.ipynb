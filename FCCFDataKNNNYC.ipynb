{
 "cells": [
  {
   "cell_type": "markdown",
   "source": [
    "Step 1: Import Libraries and Load Data\r\n",
    "\r\n",
    "The dataset I used in this file is nyctaxi_clus.Rdata. \r\n",
    "\r\n",
    "The path might need to be changed as the directory in the dropbox might not match what I used locally. "
   ],
   "metadata": {}
  },
  {
   "cell_type": "code",
   "execution_count": 15,
   "source": [
    "from statsmodels.tsa.api import VAR\r\n",
    "from statsmodels.tsa.stattools import adfuller\r\n",
    "from statsmodels.tools.eval_measures import rmse, aic\r\n",
    "\r\n",
    "import rpy2.robjects as robjects\r\n",
    "from rpy2.robjects import pandas2ri\r\n",
    "\r\n",
    "import pandas as pd\r\n",
    "import numpy as np\r\n",
    "import math\r\n",
    "import matplotlib.pyplot as plt\r\n",
    "\r\n",
    "pandas2ri.activate()\r\n",
    "robjects.r['load'](\"./CrowdFlow/data/nyctaxi_clus.RData\")"
   ],
   "outputs": [
    {
     "output_type": "execute_result",
     "data": {
      "text/plain": [
       "<rpy2.robjects.vectors.StrVector object at 0x0000017E91FE1C80> [RTYPES.STRSXP]\n",
       "R classes: ('character',)\n",
       "['alldata']"
      ],
      "text/html": [
       "\n",
       "        <span>StrVector with 1 elements.</span>\n",
       "        <table>\n",
       "        <tbody>\n",
       "          <tr>\n",
       "          \n",
       "            <td>\n",
       "            'alldata'\n",
       "            </td>\n",
       "          \n",
       "          </tr>\n",
       "        </tbody>\n",
       "        </table>\n",
       "        "
      ]
     },
     "metadata": {},
     "execution_count": 15
    }
   ],
   "metadata": {}
  },
  {
   "cell_type": "markdown",
   "source": [
    "Step 2: Process data\r\n",
    "\r\n",
    "The original data is consisted of many tables. I seperated them into each individual dataframe so I could use them in python. \r\n",
    "\r\n",
    "Data_flow consists of information of the time index, region, inflow, outflow of the data. I added one extra column called trafiic_count which is the sum of inflow and outflow. \r\n",
    "\r\n",
    "Data_timemap consists of mappings of the 'time' column of the data_flow dataframe into actual time in the day, day in the week, hour in the day, hour in the week and the week number. \r\n",
    "\r\n",
    "Data_weather consists of weather information including temperature, pressure, humidity, windspeed, winddirection and weather (a 0~16 catagorical data for weather like sunny, rainy, snowy) for each time index. I was focusing on just the 'Weather' column of the data_weather dataframe. \r\n",
    "\r\n",
    "Data_flow and data_weather are merged together for easier processing. \r\n",
    "\r\n",
    "I also defined good weather as weather type 0 ~ 2 and bad weather is everything else. \r\n",
    "\r\n",
    "I then seperated the data_flow dataset into training set and testing test. Since the data is poorly distributed, 75% of the time belongs in training set and 25% of the time belongs in testing set so that there are more weather types in testing data. "
   ],
   "metadata": {}
  },
  {
   "cell_type": "code",
   "execution_count": 16,
   "source": [
    "data = robjects.r['alldata']\r\n",
    "data_flow = robjects.r['alldata'][0]\r\n",
    "traffic_count = data_flow['outflow'] + data_flow['inflow']\r\n",
    "data_flow['traffic_count'] = traffic_count\r\n",
    "    \r\n",
    "data_timemap = robjects.r['alldata'][2]\r\n",
    "data_weather = robjects.r['alldata'][3]\r\n",
    "data_flow = data_flow.merge(data_weather, how='left', on='time')\r\n",
    "testtime = robjects.r['alldata'][-2]\r\n",
    "good_weather = data_weather.loc[data_weather['Weather'] <= 2]['time'].values.tolist()\r\n",
    "# moderate_weather = data_weather[(data_weather['Weather'] > 2) & (data_weather['Weather'] <= 6)]['time'].values.tolist()\r\n",
    "bad_weather = data_weather.loc[data_weather['Weather'] > 2]['time'].values.tolist()\r\n",
    "weather_info = [-1 for _ in range (len(data_flow))]\r\n",
    "# data_flow['Weather'] = data_weather['Weather']\r\n",
    "data_flow['Weather_T'] = weather_info\r\n",
    "# data_flow['Temperature'] = data_weather['Temperature']\r\n",
    "data_flow.loc[data_flow['time'].isin(good_weather), 'Weather_T'] = 0\r\n",
    "data_flow.loc[data_flow['time'].isin(bad_weather), 'Weather_T'] = 1\r\n",
    "# data_flow.loc[data_flow['time'].isin(bad_weather), 'Weather'] = 2\r\n",
    "test_data = data_flow.loc[data_flow['time'] >= 4410].reset_index()\r\n",
    "train_data = data_flow.loc[data_flow['time'] < 4410].reset_index()"
   ],
   "outputs": [],
   "metadata": {}
  },
  {
   "cell_type": "markdown",
   "source": [
    "This is a function which get all the time in data_timemap with the same dayinweek, hourinday, hourinweek given a certain time index. "
   ],
   "metadata": {}
  },
  {
   "cell_type": "code",
   "execution_count": 17,
   "source": [
    "def newGetTimeFromTime(time, data_timemap):\r\n",
    "    dayinweek = data_timemap.loc[data_timemap['time'] == time]['dayinweek'].values[0]\r\n",
    "    hourinday = data_timemap.loc[data_timemap['time'] == time]['hourinday'].values[0]\r\n",
    "    hourinweek = data_timemap.loc[data_timemap['time'] == time]['hourinweek'].values[0]\r\n",
    "    time_array = []\r\n",
    "    return data_timemap.loc[(data_timemap['dayinweek'] == dayinweek) & (data_timemap['hourinday'] == hourinday)]\r\n",
    "    # return data_timemap.loc[(data_timemap['dayinweek'] == dayinweek) & (data_timemap['hourinday'] == hourinday) & (data_timemap['hourinweek'] == hourinweek)]"
   ],
   "outputs": [],
   "metadata": {}
  },
  {
   "cell_type": "markdown",
   "source": [
    "Step 3: Running the prediction. \r\n",
    "\r\n",
    "I traversed the entire testing set and for each item, I get a dataframe with all the data with the same region, same weather and same time (dayinweek, hourinday and hourinweek). Then I take the average of inflow, outflow and traffic_count and append it to a list. Repeat this for all the data in test data and I get the predicted value of inflow, outflow and traffic_count for all testing data. "
   ],
   "metadata": {}
  },
  {
   "cell_type": "code",
   "execution_count": 18,
   "source": [
    "predicted_outflow = []\r\n",
    "predicted_inflow = []\r\n",
    "predicted_trafficcount = []\r\n",
    "\r\n",
    "for i in range (len(test_data.index)):\r\n",
    "    time = test_data.iloc[[i]]['time'].values[0]\r\n",
    "    time = int(time)\r\n",
    "    region = test_data.iloc[[i]]['region'].values[0]\r\n",
    "    weather = test_data.iloc[[i]]['Weather'].values[0]\r\n",
    "    dataofsameregion = train_data.loc[train_data['region'] == region]\r\n",
    "    sameweathersameregion = dataofsameregion.loc[dataofsameregion['Weather'] == weather]\r\n",
    "    time_array = newGetTimeFromTime(time, data_timemap)\r\n",
    "\r\n",
    "    \r\n",
    "    df_new = sameweathersameregion[sameweathersameregion['time'].isin(time_array['time'].values.tolist())]\r\n",
    "\r\n",
    "    predicted_outflow.append(round(df_new['outflow'].mean(), 3))\r\n",
    "    predicted_inflow.append(round(df_new['inflow'].mean(), 3))\r\n",
    "    predicted_trafficcount.append(round(df_new['traffic_count'].mean(), 3))\r\n",
    "\r\n",
    "# print (\"end of loop\")\r\n",
    "# print (predicted_inflow)\r\n",
    "# print (predicted_outflow)\r\n",
    "test_data['Pred_Outflow'] = predicted_outflow\r\n",
    "test_data['Pred_Inflow'] = predicted_inflow\r\n",
    "test_data['Pred_TrafficCount'] = predicted_trafficcount"
   ],
   "outputs": [],
   "metadata": {}
  },
  {
   "cell_type": "markdown",
   "source": [
    "Step 4. Generate squared error for inflow, outflow and traffic_count. "
   ],
   "metadata": {}
  },
  {
   "cell_type": "code",
   "execution_count": 19,
   "source": [
    "test_data['MSE_Out'] = [number ** 2 for number in (test_data['outflow'].values - test_data['Pred_Outflow'].values)]\r\n",
    "test_data['MSE_In'] = [number ** 2 for number in (test_data['inflow'].values - test_data['Pred_Inflow'].values)]\r\n",
    "test_data['MSE_Traffic_Count'] = [number ** 2 for number in (test_data['traffic_count'].values - test_data['Pred_TrafficCount'].values)]"
   ],
   "outputs": [],
   "metadata": {}
  },
  {
   "cell_type": "markdown",
   "source": [
    "Step 5. Print RMSE for inflow, outflow and traffic_count for testing set. \r\n",
    "\r\n",
    "First I printed RMSE for all 17 weather types. Then I printed RMSE for good weather and bad weather. Lastly I printed the total RMSE, without the weather impact. "
   ],
   "metadata": {}
  },
  {
   "cell_type": "code",
   "execution_count": 20,
   "source": [
    "print ('-------- Outflow MSE for all weather type --------')\r\n",
    "\r\n",
    "for i in range (0, 17):\r\n",
    "\r\n",
    "    print ('Weather = ', i, ' ', math.sqrt(test_data.loc[test_data['Weather'] == i]['MSE_Out'].mean()))\r\n",
    "\r\n",
    "print ('-------- Inflow MSE for all weather type --------')\r\n",
    "\r\n",
    "for i in range (0, 17):\r\n",
    "    \r\n",
    "    print ('Weather = ', i, ' ', math.sqrt(test_data.loc[test_data['Weather'] == i]['MSE_In'].mean()))\r\n",
    "\r\n",
    "print ('-------- Traffic_Count MSE for all weather type --------')\r\n",
    "\r\n",
    "for i in range (0, 17):\r\n",
    "    \r\n",
    "    print ('Weather = ', i, ' ', math.sqrt(test_data.loc[test_data['Weather'] == i]['MSE_Traffic_Count'].mean()))\r\n",
    "\r\n",
    "\r\n",
    "print ('-------- Traffic_Count MSE for good and bad weather type --------')\r\n",
    "\r\n",
    "print ('good weather inflow: ', math.sqrt(test_data.loc[test_data['Weather_T'] == 0]['MSE_In'].mean()))\r\n",
    "print ('bad weather inflow: ', math.sqrt(test_data.loc[test_data['Weather_T'] == 1]['MSE_In'].mean()))\r\n",
    "print ('good weather outflow: ', math.sqrt(test_data.loc[test_data['Weather_T'] == 0]['MSE_Out'].mean()))\r\n",
    "print ('bad weather outflow: ', math.sqrt(test_data.loc[test_data['Weather_T'] == 1]['MSE_Out'].mean()))\r\n",
    "print ('good weather TC: ', math.sqrt(test_data.loc[test_data['Weather_T'] == 0]['MSE_Traffic_Count'].mean()))\r\n",
    "print ('bad weather TC: ', math.sqrt(test_data.loc[test_data['Weather_T'] == 1]['MSE_Traffic_Count'].mean()))\r\n",
    "print ('MSE_TC: ', math.sqrt(test_data['MSE_Traffic_Count'].mean()))\r\n",
    "print ('MSE_Inflow: ', math.sqrt(test_data['MSE_In'].mean()))\r\n",
    "print ('MSE_Outflow: ', math.sqrt(test_data['MSE_Out'].mean()))"
   ],
   "outputs": [
    {
     "output_type": "stream",
     "name": "stdout",
     "text": [
      "-------- Outflow MSE for all weather type --------\n",
      "Weather =  0   289.15902815342514\n",
      "Weather =  1   436.52818255650817\n",
      "Weather =  2   343.4048522028582\n",
      "Weather =  3   nan\n",
      "Weather =  4   315.0948039730087\n",
      "Weather =  5   227.61605633594255\n",
      "Weather =  6   710.3917773080236\n",
      "Weather =  7   nan\n",
      "Weather =  8   nan\n",
      "Weather =  9   nan\n",
      "Weather =  10   nan\n",
      "Weather =  11   nan\n",
      "Weather =  12   nan\n",
      "Weather =  13   nan\n",
      "Weather =  14   nan\n",
      "Weather =  15   nan\n",
      "Weather =  16   nan\n",
      "-------- Inflow MSE for all weather type --------\n",
      "Weather =  0   281.91662738528544\n",
      "Weather =  1   476.91114854998585\n",
      "Weather =  2   320.8231936415857\n",
      "Weather =  3   nan\n",
      "Weather =  4   304.61809714035553\n",
      "Weather =  5   250.1936401710479\n",
      "Weather =  6   724.5771067821647\n",
      "Weather =  7   nan\n",
      "Weather =  8   nan\n",
      "Weather =  9   nan\n",
      "Weather =  10   nan\n",
      "Weather =  11   nan\n",
      "Weather =  12   nan\n",
      "Weather =  13   nan\n",
      "Weather =  14   nan\n",
      "Weather =  15   nan\n",
      "Weather =  16   nan\n",
      "-------- Traffic_Count MSE for all weather type --------\n",
      "Weather =  0   560.360339191281\n",
      "Weather =  1   877.7606073386781\n",
      "Weather =  2   645.2790969524865\n",
      "Weather =  3   nan\n",
      "Weather =  4   604.3400509487478\n",
      "Weather =  5   462.21972488658156\n",
      "Weather =  6   1426.7072471915994\n",
      "Weather =  7   nan\n",
      "Weather =  8   nan\n",
      "Weather =  9   nan\n",
      "Weather =  10   nan\n",
      "Weather =  11   nan\n",
      "Weather =  12   nan\n",
      "Weather =  13   nan\n",
      "Weather =  14   nan\n",
      "Weather =  15   nan\n",
      "Weather =  16   nan\n",
      "-------- Traffic_Count MSE for good and bad weather type --------\n",
      "good weather inflow:  290.81308468276745\n",
      "bad weather inflow:  347.5475253570498\n",
      "good weather outflow:  296.85844896669056\n",
      "bad weather outflow:  351.7362191562454\n",
      "good weather TC:  575.4621374023601\n",
      "bad weather TC:  685.6350967080455\n",
      "MSE_TC:  579.1192663814306\n"
     ]
    }
   ],
   "metadata": {}
  }
 ],
 "metadata": {
  "orig_nbformat": 4,
  "language_info": {
   "name": "python",
   "version": "3.9.5",
   "mimetype": "text/x-python",
   "codemirror_mode": {
    "name": "ipython",
    "version": 3
   },
   "pygments_lexer": "ipython3",
   "nbconvert_exporter": "python",
   "file_extension": ".py"
  },
  "kernelspec": {
   "name": "python3",
   "display_name": "Python 3.9.5 64-bit"
  },
  "interpreter": {
   "hash": "43969f4b1af0ec4f8313ee7c6dcf6c3369f1d994586751673d2ffcec1af6e26d"
  }
 },
 "nbformat": 4,
 "nbformat_minor": 2
}